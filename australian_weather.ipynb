{
 "cells": [
  {
   "cell_type": "markdown",
   "metadata": {},
   "source": [
    "# Problem Set 4\n",
    "\n",
    "This is my problem set 4 assignment."
   ]
  },
  {
   "cell_type": "markdown",
   "metadata": {},
   "source": [
    "## Dataset Desription"
   ]
  },
  {
   "cell_type": "code",
   "execution_count": 2,
   "metadata": {},
   "outputs": [],
   "source": [
    "# import necessary packages\n",
    "import numpy as np\n",
    "import pandas as pd\n",
    "import matplotlib.pyplot as plt\n",
    "import seaborn as sns\n",
    "from sklearn.model_selection import train_test_split\n",
    "from sklearn.preprocessing import StandardScaler\n",
    "from sklearn.neighbors import KNeighborsClassifier\n",
    "from sklearn.metrics import confusion_matrix\n",
    "from sklearn.metrics import f1_score\n",
    "from sklearn.metrics import accuracy_score\n",
    "\n",
    "import warnings\n",
    "warnings.filterwarnings(\"ignore\", category=DeprecationWarning) "
   ]
  },
  {
   "cell_type": "markdown",
   "metadata": {},
   "source": [
    "The dataset that I chose was about the rainfall patterns in various parts of Australia on given days and whether or not there was rainfall on the following day. I thought that this would be a good dataset to work with because it is a straightforward classification task that has practical implications in the real world. This might not necessarily be the most pertinent dataset for our purposes (being in Seattle and everything), but I think that at the very least, this dataset is a good example of how something like this *could* be a useful application of machine learning anywhere in the world. It is also significantly less depressing than the other datasets I was considering to use (like classifying the outcomes of COVID patients). For the purposes of this project, I will work with only data from Sydney, even though the dataset has access to various cities across Australia, as it makes the most sense to narrow the classification task to a smaller area. There were 3344 data points for Sydney in this dataset.\n",
    "\n",
    "Some of the features of the dataset are as follows:\n",
    "\n",
    "* MinTemp (float): The low tempurature of the day in Celsius\n",
    "* MaxTemp (float): The high tempurature of the day in Celcius\n",
    "* Rainfall (float): The amount of rainfall recorded during the day in millimeters\n",
    "* Sunshine (int): The number of hours of bright sunshine in the day\n",
    "* Temp9am (float): The tempurature at 9am in Celcius\n",
    "* Temp3pm (float): The tempurature at 3pm in Celcius\n",
    "* RainToday (character): Whether or not there was measurable rain on the current day\n",
    "* (OUTPUT) RainTomorrow (character): Whether or not there was measureable rain on the following day\n",
    "\n",
    "The full list of features can be found [here](https://www.kaggle.com/datasets/jsphyg/weather-dataset-rattle-package), where this dataset was also found and downloaded."
   ]
  },
  {
   "cell_type": "markdown",
   "metadata": {},
   "source": [
    "## Research Question\n",
    "\n",
    "The research question is as follows: **Can we predict whether or not there was measureable rain the following day based on information about the variables of the current day in Sydney?**\n",
    "\n",
    "I plan to use K-Nearest-Neighbors to predict this.\n",
    "\n",
    "### Why This Algorithm?\n",
    "\n",
    "I chose to use KNN because it allows for classification problems like this. The feature-to-data ratio is not ideal, as KNN suffers from the curse of dimensionality, but this can be recfitied by reducing the number of features, which in this case, we will do through feature selection."
   ]
  },
  {
   "cell_type": "markdown",
   "metadata": {},
   "source": [
    "## Running the Model"
   ]
  },
  {
   "cell_type": "markdown",
   "metadata": {},
   "source": [
    "We start by importing the data that we need to work with, as well as filtering the data down to the area of focus."
   ]
  },
  {
   "cell_type": "code",
   "execution_count": 3,
   "metadata": {},
   "outputs": [
    {
     "data": {
      "text/html": [
       "<div>\n",
       "<style scoped>\n",
       "    .dataframe tbody tr th:only-of-type {\n",
       "        vertical-align: middle;\n",
       "    }\n",
       "\n",
       "    .dataframe tbody tr th {\n",
       "        vertical-align: top;\n",
       "    }\n",
       "\n",
       "    .dataframe thead th {\n",
       "        text-align: right;\n",
       "    }\n",
       "</style>\n",
       "<table border=\"1\" class=\"dataframe\">\n",
       "  <thead>\n",
       "    <tr style=\"text-align: right;\">\n",
       "      <th></th>\n",
       "      <th>Date</th>\n",
       "      <th>Location</th>\n",
       "      <th>MinTemp</th>\n",
       "      <th>MaxTemp</th>\n",
       "      <th>Rainfall</th>\n",
       "      <th>Evaporation</th>\n",
       "      <th>Sunshine</th>\n",
       "      <th>WindGustDir</th>\n",
       "      <th>WindGustSpeed</th>\n",
       "      <th>WindDir9am</th>\n",
       "      <th>...</th>\n",
       "      <th>Humidity9am</th>\n",
       "      <th>Humidity3pm</th>\n",
       "      <th>Pressure9am</th>\n",
       "      <th>Pressure3pm</th>\n",
       "      <th>Cloud9am</th>\n",
       "      <th>Cloud3pm</th>\n",
       "      <th>Temp9am</th>\n",
       "      <th>Temp3pm</th>\n",
       "      <th>RainToday</th>\n",
       "      <th>RainTomorrow</th>\n",
       "    </tr>\n",
       "  </thead>\n",
       "  <tbody>\n",
       "    <tr>\n",
       "      <th>0</th>\n",
       "      <td>2008-12-01</td>\n",
       "      <td>Albury</td>\n",
       "      <td>13.4</td>\n",
       "      <td>22.9</td>\n",
       "      <td>0.6</td>\n",
       "      <td>NaN</td>\n",
       "      <td>NaN</td>\n",
       "      <td>W</td>\n",
       "      <td>44.0</td>\n",
       "      <td>W</td>\n",
       "      <td>...</td>\n",
       "      <td>71.0</td>\n",
       "      <td>22.0</td>\n",
       "      <td>1007.7</td>\n",
       "      <td>1007.1</td>\n",
       "      <td>8.0</td>\n",
       "      <td>NaN</td>\n",
       "      <td>16.9</td>\n",
       "      <td>21.8</td>\n",
       "      <td>No</td>\n",
       "      <td>No</td>\n",
       "    </tr>\n",
       "    <tr>\n",
       "      <th>1</th>\n",
       "      <td>2008-12-02</td>\n",
       "      <td>Albury</td>\n",
       "      <td>7.4</td>\n",
       "      <td>25.1</td>\n",
       "      <td>0.0</td>\n",
       "      <td>NaN</td>\n",
       "      <td>NaN</td>\n",
       "      <td>WNW</td>\n",
       "      <td>44.0</td>\n",
       "      <td>NNW</td>\n",
       "      <td>...</td>\n",
       "      <td>44.0</td>\n",
       "      <td>25.0</td>\n",
       "      <td>1010.6</td>\n",
       "      <td>1007.8</td>\n",
       "      <td>NaN</td>\n",
       "      <td>NaN</td>\n",
       "      <td>17.2</td>\n",
       "      <td>24.3</td>\n",
       "      <td>No</td>\n",
       "      <td>No</td>\n",
       "    </tr>\n",
       "    <tr>\n",
       "      <th>2</th>\n",
       "      <td>2008-12-03</td>\n",
       "      <td>Albury</td>\n",
       "      <td>12.9</td>\n",
       "      <td>25.7</td>\n",
       "      <td>0.0</td>\n",
       "      <td>NaN</td>\n",
       "      <td>NaN</td>\n",
       "      <td>WSW</td>\n",
       "      <td>46.0</td>\n",
       "      <td>W</td>\n",
       "      <td>...</td>\n",
       "      <td>38.0</td>\n",
       "      <td>30.0</td>\n",
       "      <td>1007.6</td>\n",
       "      <td>1008.7</td>\n",
       "      <td>NaN</td>\n",
       "      <td>2.0</td>\n",
       "      <td>21.0</td>\n",
       "      <td>23.2</td>\n",
       "      <td>No</td>\n",
       "      <td>No</td>\n",
       "    </tr>\n",
       "    <tr>\n",
       "      <th>3</th>\n",
       "      <td>2008-12-04</td>\n",
       "      <td>Albury</td>\n",
       "      <td>9.2</td>\n",
       "      <td>28.0</td>\n",
       "      <td>0.0</td>\n",
       "      <td>NaN</td>\n",
       "      <td>NaN</td>\n",
       "      <td>NE</td>\n",
       "      <td>24.0</td>\n",
       "      <td>SE</td>\n",
       "      <td>...</td>\n",
       "      <td>45.0</td>\n",
       "      <td>16.0</td>\n",
       "      <td>1017.6</td>\n",
       "      <td>1012.8</td>\n",
       "      <td>NaN</td>\n",
       "      <td>NaN</td>\n",
       "      <td>18.1</td>\n",
       "      <td>26.5</td>\n",
       "      <td>No</td>\n",
       "      <td>No</td>\n",
       "    </tr>\n",
       "    <tr>\n",
       "      <th>4</th>\n",
       "      <td>2008-12-05</td>\n",
       "      <td>Albury</td>\n",
       "      <td>17.5</td>\n",
       "      <td>32.3</td>\n",
       "      <td>1.0</td>\n",
       "      <td>NaN</td>\n",
       "      <td>NaN</td>\n",
       "      <td>W</td>\n",
       "      <td>41.0</td>\n",
       "      <td>ENE</td>\n",
       "      <td>...</td>\n",
       "      <td>82.0</td>\n",
       "      <td>33.0</td>\n",
       "      <td>1010.8</td>\n",
       "      <td>1006.0</td>\n",
       "      <td>7.0</td>\n",
       "      <td>8.0</td>\n",
       "      <td>17.8</td>\n",
       "      <td>29.7</td>\n",
       "      <td>No</td>\n",
       "      <td>No</td>\n",
       "    </tr>\n",
       "  </tbody>\n",
       "</table>\n",
       "<p>5 rows × 23 columns</p>\n",
       "</div>"
      ],
      "text/plain": [
       "         Date Location  MinTemp  MaxTemp  Rainfall  Evaporation  Sunshine  \\\n",
       "0  2008-12-01   Albury     13.4     22.9       0.6          NaN       NaN   \n",
       "1  2008-12-02   Albury      7.4     25.1       0.0          NaN       NaN   \n",
       "2  2008-12-03   Albury     12.9     25.7       0.0          NaN       NaN   \n",
       "3  2008-12-04   Albury      9.2     28.0       0.0          NaN       NaN   \n",
       "4  2008-12-05   Albury     17.5     32.3       1.0          NaN       NaN   \n",
       "\n",
       "  WindGustDir  WindGustSpeed WindDir9am  ... Humidity9am  Humidity3pm  \\\n",
       "0           W           44.0          W  ...        71.0         22.0   \n",
       "1         WNW           44.0        NNW  ...        44.0         25.0   \n",
       "2         WSW           46.0          W  ...        38.0         30.0   \n",
       "3          NE           24.0         SE  ...        45.0         16.0   \n",
       "4           W           41.0        ENE  ...        82.0         33.0   \n",
       "\n",
       "   Pressure9am  Pressure3pm  Cloud9am  Cloud3pm  Temp9am  Temp3pm  RainToday  \\\n",
       "0       1007.7       1007.1       8.0       NaN     16.9     21.8         No   \n",
       "1       1010.6       1007.8       NaN       NaN     17.2     24.3         No   \n",
       "2       1007.6       1008.7       NaN       2.0     21.0     23.2         No   \n",
       "3       1017.6       1012.8       NaN       NaN     18.1     26.5         No   \n",
       "4       1010.8       1006.0       7.0       8.0     17.8     29.7         No   \n",
       "\n",
       "   RainTomorrow  \n",
       "0            No  \n",
       "1            No  \n",
       "2            No  \n",
       "3            No  \n",
       "4            No  \n",
       "\n",
       "[5 rows x 23 columns]"
      ]
     },
     "execution_count": 3,
     "metadata": {},
     "output_type": "execute_result"
    }
   ],
   "source": [
    "# import and view the data\n",
    "australia_weather = pd.read_csv('weatherAUS.csv')\n",
    "australia_weather.head()"
   ]
  },
  {
   "cell_type": "code",
   "execution_count": 4,
   "metadata": {},
   "outputs": [
    {
     "data": {
      "text/html": [
       "<div>\n",
       "<style scoped>\n",
       "    .dataframe tbody tr th:only-of-type {\n",
       "        vertical-align: middle;\n",
       "    }\n",
       "\n",
       "    .dataframe tbody tr th {\n",
       "        vertical-align: top;\n",
       "    }\n",
       "\n",
       "    .dataframe thead th {\n",
       "        text-align: right;\n",
       "    }\n",
       "</style>\n",
       "<table border=\"1\" class=\"dataframe\">\n",
       "  <thead>\n",
       "    <tr style=\"text-align: right;\">\n",
       "      <th></th>\n",
       "      <th>Date</th>\n",
       "      <th>Location</th>\n",
       "      <th>MinTemp</th>\n",
       "      <th>MaxTemp</th>\n",
       "      <th>Rainfall</th>\n",
       "      <th>Evaporation</th>\n",
       "      <th>Sunshine</th>\n",
       "      <th>WindGustDir</th>\n",
       "      <th>WindGustSpeed</th>\n",
       "      <th>WindDir9am</th>\n",
       "      <th>...</th>\n",
       "      <th>Humidity9am</th>\n",
       "      <th>Humidity3pm</th>\n",
       "      <th>Pressure9am</th>\n",
       "      <th>Pressure3pm</th>\n",
       "      <th>Cloud9am</th>\n",
       "      <th>Cloud3pm</th>\n",
       "      <th>Temp9am</th>\n",
       "      <th>Temp3pm</th>\n",
       "      <th>RainToday</th>\n",
       "      <th>RainTomorrow</th>\n",
       "    </tr>\n",
       "  </thead>\n",
       "  <tbody>\n",
       "    <tr>\n",
       "      <th>30176</th>\n",
       "      <td>2008-02-01</td>\n",
       "      <td>Sydney</td>\n",
       "      <td>19.5</td>\n",
       "      <td>22.4</td>\n",
       "      <td>15.6</td>\n",
       "      <td>6.2</td>\n",
       "      <td>0.0</td>\n",
       "      <td>NaN</td>\n",
       "      <td>NaN</td>\n",
       "      <td>S</td>\n",
       "      <td>...</td>\n",
       "      <td>92.0</td>\n",
       "      <td>84.0</td>\n",
       "      <td>1017.6</td>\n",
       "      <td>1017.4</td>\n",
       "      <td>8.0</td>\n",
       "      <td>8.0</td>\n",
       "      <td>20.7</td>\n",
       "      <td>20.9</td>\n",
       "      <td>Yes</td>\n",
       "      <td>Yes</td>\n",
       "    </tr>\n",
       "    <tr>\n",
       "      <th>30177</th>\n",
       "      <td>2008-02-02</td>\n",
       "      <td>Sydney</td>\n",
       "      <td>19.5</td>\n",
       "      <td>25.6</td>\n",
       "      <td>6.0</td>\n",
       "      <td>3.4</td>\n",
       "      <td>2.7</td>\n",
       "      <td>NaN</td>\n",
       "      <td>NaN</td>\n",
       "      <td>W</td>\n",
       "      <td>...</td>\n",
       "      <td>83.0</td>\n",
       "      <td>73.0</td>\n",
       "      <td>1017.9</td>\n",
       "      <td>1016.4</td>\n",
       "      <td>7.0</td>\n",
       "      <td>7.0</td>\n",
       "      <td>22.4</td>\n",
       "      <td>24.8</td>\n",
       "      <td>Yes</td>\n",
       "      <td>Yes</td>\n",
       "    </tr>\n",
       "    <tr>\n",
       "      <th>30178</th>\n",
       "      <td>2008-02-03</td>\n",
       "      <td>Sydney</td>\n",
       "      <td>21.6</td>\n",
       "      <td>24.5</td>\n",
       "      <td>6.6</td>\n",
       "      <td>2.4</td>\n",
       "      <td>0.1</td>\n",
       "      <td>NaN</td>\n",
       "      <td>NaN</td>\n",
       "      <td>ESE</td>\n",
       "      <td>...</td>\n",
       "      <td>88.0</td>\n",
       "      <td>86.0</td>\n",
       "      <td>1016.7</td>\n",
       "      <td>1015.6</td>\n",
       "      <td>7.0</td>\n",
       "      <td>8.0</td>\n",
       "      <td>23.5</td>\n",
       "      <td>23.0</td>\n",
       "      <td>Yes</td>\n",
       "      <td>Yes</td>\n",
       "    </tr>\n",
       "    <tr>\n",
       "      <th>30179</th>\n",
       "      <td>2008-02-04</td>\n",
       "      <td>Sydney</td>\n",
       "      <td>20.2</td>\n",
       "      <td>22.8</td>\n",
       "      <td>18.8</td>\n",
       "      <td>2.2</td>\n",
       "      <td>0.0</td>\n",
       "      <td>NaN</td>\n",
       "      <td>NaN</td>\n",
       "      <td>NNE</td>\n",
       "      <td>...</td>\n",
       "      <td>83.0</td>\n",
       "      <td>90.0</td>\n",
       "      <td>1014.2</td>\n",
       "      <td>1011.8</td>\n",
       "      <td>8.0</td>\n",
       "      <td>8.0</td>\n",
       "      <td>21.4</td>\n",
       "      <td>20.9</td>\n",
       "      <td>Yes</td>\n",
       "      <td>Yes</td>\n",
       "    </tr>\n",
       "    <tr>\n",
       "      <th>30180</th>\n",
       "      <td>2008-02-05</td>\n",
       "      <td>Sydney</td>\n",
       "      <td>19.7</td>\n",
       "      <td>25.7</td>\n",
       "      <td>77.4</td>\n",
       "      <td>NaN</td>\n",
       "      <td>0.0</td>\n",
       "      <td>NaN</td>\n",
       "      <td>NaN</td>\n",
       "      <td>NNE</td>\n",
       "      <td>...</td>\n",
       "      <td>88.0</td>\n",
       "      <td>74.0</td>\n",
       "      <td>1008.3</td>\n",
       "      <td>1004.8</td>\n",
       "      <td>8.0</td>\n",
       "      <td>8.0</td>\n",
       "      <td>22.5</td>\n",
       "      <td>25.5</td>\n",
       "      <td>Yes</td>\n",
       "      <td>Yes</td>\n",
       "    </tr>\n",
       "  </tbody>\n",
       "</table>\n",
       "<p>5 rows × 23 columns</p>\n",
       "</div>"
      ],
      "text/plain": [
       "             Date Location  MinTemp  MaxTemp  Rainfall  Evaporation  Sunshine  \\\n",
       "30176  2008-02-01   Sydney     19.5     22.4      15.6          6.2       0.0   \n",
       "30177  2008-02-02   Sydney     19.5     25.6       6.0          3.4       2.7   \n",
       "30178  2008-02-03   Sydney     21.6     24.5       6.6          2.4       0.1   \n",
       "30179  2008-02-04   Sydney     20.2     22.8      18.8          2.2       0.0   \n",
       "30180  2008-02-05   Sydney     19.7     25.7      77.4          NaN       0.0   \n",
       "\n",
       "      WindGustDir  WindGustSpeed WindDir9am  ... Humidity9am  Humidity3pm  \\\n",
       "30176         NaN            NaN          S  ...        92.0         84.0   \n",
       "30177         NaN            NaN          W  ...        83.0         73.0   \n",
       "30178         NaN            NaN        ESE  ...        88.0         86.0   \n",
       "30179         NaN            NaN        NNE  ...        83.0         90.0   \n",
       "30180         NaN            NaN        NNE  ...        88.0         74.0   \n",
       "\n",
       "       Pressure9am  Pressure3pm  Cloud9am  Cloud3pm  Temp9am  Temp3pm  \\\n",
       "30176       1017.6       1017.4       8.0       8.0     20.7     20.9   \n",
       "30177       1017.9       1016.4       7.0       7.0     22.4     24.8   \n",
       "30178       1016.7       1015.6       7.0       8.0     23.5     23.0   \n",
       "30179       1014.2       1011.8       8.0       8.0     21.4     20.9   \n",
       "30180       1008.3       1004.8       8.0       8.0     22.5     25.5   \n",
       "\n",
       "       RainToday  RainTomorrow  \n",
       "30176        Yes           Yes  \n",
       "30177        Yes           Yes  \n",
       "30178        Yes           Yes  \n",
       "30179        Yes           Yes  \n",
       "30180        Yes           Yes  \n",
       "\n",
       "[5 rows x 23 columns]"
      ]
     },
     "execution_count": 4,
     "metadata": {},
     "output_type": "execute_result"
    }
   ],
   "source": [
    "# filter the data to only include Sydney data and view it\n",
    "sydney_weather = australia_weather[australia_weather.Location == 'Sydney']\n",
    "sydney_weather.head()"
   ]
  },
  {
   "cell_type": "code",
   "execution_count": 5,
   "metadata": {},
   "outputs": [
    {
     "data": {
      "text/plain": [
       "(3344, 23)"
      ]
     },
     "execution_count": 5,
     "metadata": {},
     "output_type": "execute_result"
    }
   ],
   "source": [
    "# view the shape of the data we're working with\n",
    "sydney_weather.shape"
   ]
  },
  {
   "cell_type": "markdown",
   "metadata": {},
   "source": [
    "We can also view the number of NA values in the dataset. This will help us in the preliminary feature selection."
   ]
  },
  {
   "cell_type": "code",
   "execution_count": 6,
   "metadata": {},
   "outputs": [
    {
     "data": {
      "text/plain": [
       "Date                0\n",
       "Location            0\n",
       "MinTemp             4\n",
       "MaxTemp             2\n",
       "Rainfall            7\n",
       "Evaporation        51\n",
       "Sunshine           16\n",
       "WindGustDir      1038\n",
       "WindGustSpeed    1038\n",
       "WindDir9am         56\n",
       "WindDir3pm         33\n",
       "WindSpeed9am       26\n",
       "WindSpeed3pm       25\n",
       "Humidity9am        15\n",
       "Humidity3pm        13\n",
       "Pressure9am        21\n",
       "Pressure3pm        19\n",
       "Cloud9am          568\n",
       "Cloud3pm          563\n",
       "Temp9am             5\n",
       "Temp3pm             4\n",
       "RainToday           7\n",
       "RainTomorrow        7\n",
       "dtype: int64"
      ]
     },
     "execution_count": 6,
     "metadata": {},
     "output_type": "execute_result"
    }
   ],
   "source": [
    "# view the NaN values by column\n",
    "sydney_weather.isna().sum()"
   ]
  },
  {
   "cell_type": "markdown",
   "metadata": {},
   "source": [
    "We can see that `WindGustDir`, `WindGustSpeed`, `Cloud9am`, and `Cloud3pm` all have high rates of NA values, so we can strongly consider to cut them during feature selection."
   ]
  },
  {
   "cell_type": "code",
   "execution_count": 7,
   "metadata": {},
   "outputs": [
    {
     "data": {
      "text/plain": [
       "Index(['Date', 'Location', 'MinTemp', 'MaxTemp', 'Rainfall', 'Evaporation',\n",
       "       'Sunshine', 'WindSpeed9am', 'WindSpeed3pm', 'Humidity9am',\n",
       "       'Humidity3pm', 'Pressure9am', 'Pressure3pm', 'Temp9am', 'Temp3pm',\n",
       "       'RainToday', 'RainTomorrow'],\n",
       "      dtype='object')"
      ]
     },
     "execution_count": 7,
     "metadata": {},
     "output_type": "execute_result"
    }
   ],
   "source": [
    "# drop the columns that we want to remove with high numbers of NaN values\n",
    "sydney_weather = sydney_weather.drop(['WindGustDir', 'WindGustSpeed', 'Cloud9am', 'Cloud3pm', 'WindDir9am', 'WindDir3pm'], axis=1)\n",
    "sydney_weather.columns"
   ]
  },
  {
   "cell_type": "markdown",
   "metadata": {},
   "source": [
    "We also want to drop the columns that have `RainTomorrow` as NA values, as these days will not help us in predicting if there was rain tomorrow."
   ]
  },
  {
   "cell_type": "code",
   "execution_count": 8,
   "metadata": {},
   "outputs": [
    {
     "data": {
      "text/plain": [
       "Date             0\n",
       "Location         0\n",
       "MinTemp          3\n",
       "MaxTemp          2\n",
       "Rainfall         6\n",
       "Evaporation     51\n",
       "Sunshine        16\n",
       "WindSpeed9am    26\n",
       "WindSpeed3pm    25\n",
       "Humidity9am     14\n",
       "Humidity3pm     13\n",
       "Pressure9am     20\n",
       "Pressure3pm     19\n",
       "Temp9am          4\n",
       "Temp3pm          4\n",
       "RainToday        6\n",
       "RainTomorrow     0\n",
       "dtype: int64"
      ]
     },
     "execution_count": 8,
     "metadata": {},
     "output_type": "execute_result"
    }
   ],
   "source": [
    "# remove the rows where we don't have the RainTomorrow answer\n",
    "sydney_weather = sydney_weather[sydney_weather.RainTomorrow.notna()]\n",
    "sydney_weather.isna().sum()"
   ]
  },
  {
   "cell_type": "code",
   "execution_count": 9,
   "metadata": {},
   "outputs": [
    {
     "data": {
      "text/html": [
       "<div>\n",
       "<style scoped>\n",
       "    .dataframe tbody tr th:only-of-type {\n",
       "        vertical-align: middle;\n",
       "    }\n",
       "\n",
       "    .dataframe tbody tr th {\n",
       "        vertical-align: top;\n",
       "    }\n",
       "\n",
       "    .dataframe thead th {\n",
       "        text-align: right;\n",
       "    }\n",
       "</style>\n",
       "<table border=\"1\" class=\"dataframe\">\n",
       "  <thead>\n",
       "    <tr style=\"text-align: right;\">\n",
       "      <th></th>\n",
       "      <th>Date</th>\n",
       "      <th>Location</th>\n",
       "      <th>MinTemp</th>\n",
       "      <th>MaxTemp</th>\n",
       "      <th>Rainfall</th>\n",
       "      <th>Evaporation</th>\n",
       "      <th>Sunshine</th>\n",
       "      <th>WindSpeed9am</th>\n",
       "      <th>WindSpeed3pm</th>\n",
       "      <th>Humidity9am</th>\n",
       "      <th>Humidity3pm</th>\n",
       "      <th>Pressure9am</th>\n",
       "      <th>Pressure3pm</th>\n",
       "      <th>Temp9am</th>\n",
       "      <th>Temp3pm</th>\n",
       "      <th>RainToday</th>\n",
       "      <th>RainTomorrow</th>\n",
       "    </tr>\n",
       "  </thead>\n",
       "  <tbody>\n",
       "    <tr>\n",
       "      <th>30176</th>\n",
       "      <td>2008-02-01</td>\n",
       "      <td>Sydney</td>\n",
       "      <td>19.5</td>\n",
       "      <td>22.4</td>\n",
       "      <td>15.6</td>\n",
       "      <td>6.2</td>\n",
       "      <td>0.0</td>\n",
       "      <td>17.0</td>\n",
       "      <td>20.0</td>\n",
       "      <td>92.0</td>\n",
       "      <td>84.0</td>\n",
       "      <td>1017.6</td>\n",
       "      <td>1017.4</td>\n",
       "      <td>20.7</td>\n",
       "      <td>20.9</td>\n",
       "      <td>Yes</td>\n",
       "      <td>Yes</td>\n",
       "    </tr>\n",
       "    <tr>\n",
       "      <th>30177</th>\n",
       "      <td>2008-02-02</td>\n",
       "      <td>Sydney</td>\n",
       "      <td>19.5</td>\n",
       "      <td>25.6</td>\n",
       "      <td>6.0</td>\n",
       "      <td>3.4</td>\n",
       "      <td>2.7</td>\n",
       "      <td>9.0</td>\n",
       "      <td>13.0</td>\n",
       "      <td>83.0</td>\n",
       "      <td>73.0</td>\n",
       "      <td>1017.9</td>\n",
       "      <td>1016.4</td>\n",
       "      <td>22.4</td>\n",
       "      <td>24.8</td>\n",
       "      <td>Yes</td>\n",
       "      <td>Yes</td>\n",
       "    </tr>\n",
       "    <tr>\n",
       "      <th>30178</th>\n",
       "      <td>2008-02-03</td>\n",
       "      <td>Sydney</td>\n",
       "      <td>21.6</td>\n",
       "      <td>24.5</td>\n",
       "      <td>6.6</td>\n",
       "      <td>2.4</td>\n",
       "      <td>0.1</td>\n",
       "      <td>17.0</td>\n",
       "      <td>2.0</td>\n",
       "      <td>88.0</td>\n",
       "      <td>86.0</td>\n",
       "      <td>1016.7</td>\n",
       "      <td>1015.6</td>\n",
       "      <td>23.5</td>\n",
       "      <td>23.0</td>\n",
       "      <td>Yes</td>\n",
       "      <td>Yes</td>\n",
       "    </tr>\n",
       "    <tr>\n",
       "      <th>30179</th>\n",
       "      <td>2008-02-04</td>\n",
       "      <td>Sydney</td>\n",
       "      <td>20.2</td>\n",
       "      <td>22.8</td>\n",
       "      <td>18.8</td>\n",
       "      <td>2.2</td>\n",
       "      <td>0.0</td>\n",
       "      <td>22.0</td>\n",
       "      <td>20.0</td>\n",
       "      <td>83.0</td>\n",
       "      <td>90.0</td>\n",
       "      <td>1014.2</td>\n",
       "      <td>1011.8</td>\n",
       "      <td>21.4</td>\n",
       "      <td>20.9</td>\n",
       "      <td>Yes</td>\n",
       "      <td>Yes</td>\n",
       "    </tr>\n",
       "    <tr>\n",
       "      <th>30180</th>\n",
       "      <td>2008-02-05</td>\n",
       "      <td>Sydney</td>\n",
       "      <td>19.7</td>\n",
       "      <td>25.7</td>\n",
       "      <td>77.4</td>\n",
       "      <td>NaN</td>\n",
       "      <td>0.0</td>\n",
       "      <td>11.0</td>\n",
       "      <td>6.0</td>\n",
       "      <td>88.0</td>\n",
       "      <td>74.0</td>\n",
       "      <td>1008.3</td>\n",
       "      <td>1004.8</td>\n",
       "      <td>22.5</td>\n",
       "      <td>25.5</td>\n",
       "      <td>Yes</td>\n",
       "      <td>Yes</td>\n",
       "    </tr>\n",
       "  </tbody>\n",
       "</table>\n",
       "</div>"
      ],
      "text/plain": [
       "             Date Location  MinTemp  MaxTemp  Rainfall  Evaporation  Sunshine  \\\n",
       "30176  2008-02-01   Sydney     19.5     22.4      15.6          6.2       0.0   \n",
       "30177  2008-02-02   Sydney     19.5     25.6       6.0          3.4       2.7   \n",
       "30178  2008-02-03   Sydney     21.6     24.5       6.6          2.4       0.1   \n",
       "30179  2008-02-04   Sydney     20.2     22.8      18.8          2.2       0.0   \n",
       "30180  2008-02-05   Sydney     19.7     25.7      77.4          NaN       0.0   \n",
       "\n",
       "       WindSpeed9am  WindSpeed3pm  Humidity9am  Humidity3pm  Pressure9am  \\\n",
       "30176          17.0          20.0         92.0         84.0       1017.6   \n",
       "30177           9.0          13.0         83.0         73.0       1017.9   \n",
       "30178          17.0           2.0         88.0         86.0       1016.7   \n",
       "30179          22.0          20.0         83.0         90.0       1014.2   \n",
       "30180          11.0           6.0         88.0         74.0       1008.3   \n",
       "\n",
       "       Pressure3pm  Temp9am  Temp3pm RainToday RainTomorrow  \n",
       "30176       1017.4     20.7     20.9       Yes          Yes  \n",
       "30177       1016.4     22.4     24.8       Yes          Yes  \n",
       "30178       1015.6     23.5     23.0       Yes          Yes  \n",
       "30179       1011.8     21.4     20.9       Yes          Yes  \n",
       "30180       1004.8     22.5     25.5       Yes          Yes  "
      ]
     },
     "execution_count": 9,
     "metadata": {},
     "output_type": "execute_result"
    }
   ],
   "source": [
    "sydney_weather.head()"
   ]
  },
  {
   "cell_type": "markdown",
   "metadata": {},
   "source": [
    "For the purposes of our dataset, we will also change the `Yes` and `No` values in RainToday and RainTomorrow to be 1 and 0, with 0 representing `No` and 1 representing `Yes`."
   ]
  },
  {
   "cell_type": "code",
   "execution_count": 10,
   "metadata": {},
   "outputs": [
    {
     "data": {
      "text/html": [
       "<div>\n",
       "<style scoped>\n",
       "    .dataframe tbody tr th:only-of-type {\n",
       "        vertical-align: middle;\n",
       "    }\n",
       "\n",
       "    .dataframe tbody tr th {\n",
       "        vertical-align: top;\n",
       "    }\n",
       "\n",
       "    .dataframe thead th {\n",
       "        text-align: right;\n",
       "    }\n",
       "</style>\n",
       "<table border=\"1\" class=\"dataframe\">\n",
       "  <thead>\n",
       "    <tr style=\"text-align: right;\">\n",
       "      <th></th>\n",
       "      <th>Date</th>\n",
       "      <th>Location</th>\n",
       "      <th>MinTemp</th>\n",
       "      <th>MaxTemp</th>\n",
       "      <th>Rainfall</th>\n",
       "      <th>Evaporation</th>\n",
       "      <th>Sunshine</th>\n",
       "      <th>WindSpeed9am</th>\n",
       "      <th>WindSpeed3pm</th>\n",
       "      <th>Humidity9am</th>\n",
       "      <th>Humidity3pm</th>\n",
       "      <th>Pressure9am</th>\n",
       "      <th>Pressure3pm</th>\n",
       "      <th>Temp9am</th>\n",
       "      <th>Temp3pm</th>\n",
       "      <th>RainToday</th>\n",
       "      <th>RainTomorrow</th>\n",
       "    </tr>\n",
       "  </thead>\n",
       "  <tbody>\n",
       "    <tr>\n",
       "      <th>30176</th>\n",
       "      <td>2008-02-01</td>\n",
       "      <td>Sydney</td>\n",
       "      <td>19.5</td>\n",
       "      <td>22.4</td>\n",
       "      <td>15.6</td>\n",
       "      <td>6.2</td>\n",
       "      <td>0.0</td>\n",
       "      <td>17.0</td>\n",
       "      <td>20.0</td>\n",
       "      <td>92.0</td>\n",
       "      <td>84.0</td>\n",
       "      <td>1017.6</td>\n",
       "      <td>1017.4</td>\n",
       "      <td>20.7</td>\n",
       "      <td>20.9</td>\n",
       "      <td>1.0</td>\n",
       "      <td>1</td>\n",
       "    </tr>\n",
       "    <tr>\n",
       "      <th>30177</th>\n",
       "      <td>2008-02-02</td>\n",
       "      <td>Sydney</td>\n",
       "      <td>19.5</td>\n",
       "      <td>25.6</td>\n",
       "      <td>6.0</td>\n",
       "      <td>3.4</td>\n",
       "      <td>2.7</td>\n",
       "      <td>9.0</td>\n",
       "      <td>13.0</td>\n",
       "      <td>83.0</td>\n",
       "      <td>73.0</td>\n",
       "      <td>1017.9</td>\n",
       "      <td>1016.4</td>\n",
       "      <td>22.4</td>\n",
       "      <td>24.8</td>\n",
       "      <td>1.0</td>\n",
       "      <td>1</td>\n",
       "    </tr>\n",
       "    <tr>\n",
       "      <th>30178</th>\n",
       "      <td>2008-02-03</td>\n",
       "      <td>Sydney</td>\n",
       "      <td>21.6</td>\n",
       "      <td>24.5</td>\n",
       "      <td>6.6</td>\n",
       "      <td>2.4</td>\n",
       "      <td>0.1</td>\n",
       "      <td>17.0</td>\n",
       "      <td>2.0</td>\n",
       "      <td>88.0</td>\n",
       "      <td>86.0</td>\n",
       "      <td>1016.7</td>\n",
       "      <td>1015.6</td>\n",
       "      <td>23.5</td>\n",
       "      <td>23.0</td>\n",
       "      <td>1.0</td>\n",
       "      <td>1</td>\n",
       "    </tr>\n",
       "    <tr>\n",
       "      <th>30179</th>\n",
       "      <td>2008-02-04</td>\n",
       "      <td>Sydney</td>\n",
       "      <td>20.2</td>\n",
       "      <td>22.8</td>\n",
       "      <td>18.8</td>\n",
       "      <td>2.2</td>\n",
       "      <td>0.0</td>\n",
       "      <td>22.0</td>\n",
       "      <td>20.0</td>\n",
       "      <td>83.0</td>\n",
       "      <td>90.0</td>\n",
       "      <td>1014.2</td>\n",
       "      <td>1011.8</td>\n",
       "      <td>21.4</td>\n",
       "      <td>20.9</td>\n",
       "      <td>1.0</td>\n",
       "      <td>1</td>\n",
       "    </tr>\n",
       "    <tr>\n",
       "      <th>30180</th>\n",
       "      <td>2008-02-05</td>\n",
       "      <td>Sydney</td>\n",
       "      <td>19.7</td>\n",
       "      <td>25.7</td>\n",
       "      <td>77.4</td>\n",
       "      <td>NaN</td>\n",
       "      <td>0.0</td>\n",
       "      <td>11.0</td>\n",
       "      <td>6.0</td>\n",
       "      <td>88.0</td>\n",
       "      <td>74.0</td>\n",
       "      <td>1008.3</td>\n",
       "      <td>1004.8</td>\n",
       "      <td>22.5</td>\n",
       "      <td>25.5</td>\n",
       "      <td>1.0</td>\n",
       "      <td>1</td>\n",
       "    </tr>\n",
       "  </tbody>\n",
       "</table>\n",
       "</div>"
      ],
      "text/plain": [
       "             Date Location  MinTemp  MaxTemp  Rainfall  Evaporation  Sunshine  \\\n",
       "30176  2008-02-01   Sydney     19.5     22.4      15.6          6.2       0.0   \n",
       "30177  2008-02-02   Sydney     19.5     25.6       6.0          3.4       2.7   \n",
       "30178  2008-02-03   Sydney     21.6     24.5       6.6          2.4       0.1   \n",
       "30179  2008-02-04   Sydney     20.2     22.8      18.8          2.2       0.0   \n",
       "30180  2008-02-05   Sydney     19.7     25.7      77.4          NaN       0.0   \n",
       "\n",
       "       WindSpeed9am  WindSpeed3pm  Humidity9am  Humidity3pm  Pressure9am  \\\n",
       "30176          17.0          20.0         92.0         84.0       1017.6   \n",
       "30177           9.0          13.0         83.0         73.0       1017.9   \n",
       "30178          17.0           2.0         88.0         86.0       1016.7   \n",
       "30179          22.0          20.0         83.0         90.0       1014.2   \n",
       "30180          11.0           6.0         88.0         74.0       1008.3   \n",
       "\n",
       "       Pressure3pm  Temp9am  Temp3pm  RainToday  RainTomorrow  \n",
       "30176       1017.4     20.7     20.9        1.0             1  \n",
       "30177       1016.4     22.4     24.8        1.0             1  \n",
       "30178       1015.6     23.5     23.0        1.0             1  \n",
       "30179       1011.8     21.4     20.9        1.0             1  \n",
       "30180       1004.8     22.5     25.5        1.0             1  "
      ]
     },
     "execution_count": 10,
     "metadata": {},
     "output_type": "execute_result"
    }
   ],
   "source": [
    "# replace 'yes' and 'no' encodings for RainToday and RainTomorrow to 1 and 0 respectively\n",
    "sydney_weather = sydney_weather.replace({'Yes': 1, 'No': 0})\n",
    "sydney_weather.head()"
   ]
  },
  {
   "cell_type": "markdown",
   "metadata": {},
   "source": [
    "We also still have some NA data in the dataset. For these values, we will replace them with the **average values of that column**. This is not a perfect solution, but in this case it is better to do this than to replace these values with 0 (as this is likely further from the \"truth\" than the average value) and it would be a significant portion of our data to simply ignore."
   ]
  },
  {
   "cell_type": "code",
   "execution_count": 11,
   "metadata": {},
   "outputs": [
    {
     "data": {
      "text/plain": [
       "Date            0\n",
       "Location        0\n",
       "MinTemp         0\n",
       "MaxTemp         0\n",
       "Rainfall        0\n",
       "Evaporation     0\n",
       "Sunshine        0\n",
       "WindSpeed9am    0\n",
       "WindSpeed3pm    0\n",
       "Humidity9am     0\n",
       "Humidity3pm     0\n",
       "Pressure9am     0\n",
       "Pressure3pm     0\n",
       "Temp9am         0\n",
       "Temp3pm         0\n",
       "RainToday       0\n",
       "RainTomorrow    0\n",
       "dtype: int64"
      ]
     },
     "execution_count": 11,
     "metadata": {},
     "output_type": "execute_result"
    }
   ],
   "source": [
    "# for each NaN value in each of the columns, replace it with the average\n",
    "# value of that column\n",
    "for column in sydney_weather.columns[2:16]:\n",
    "    mean = sydney_weather[column].mean(skipna=True)\n",
    "    sydney_weather[column] = sydney_weather[column].replace(np.NaN, mean)\n",
    "    \n",
    "sydney_weather.isna().sum()"
   ]
  },
  {
   "cell_type": "markdown",
   "metadata": {},
   "source": [
    "We also know that KNN is an algorithm that suffers from the curse of dimensionality, which means that including too many feature will have a strong negative affect on how the model will perform, especially with our number of data points. We will parse down our feature list to a much smaller list, chosen somewhat arbitrarily but also using intuition on what might cause rainfall the following day."
   ]
  },
  {
   "cell_type": "code",
   "execution_count": 12,
   "metadata": {},
   "outputs": [
    {
     "data": {
      "text/html": [
       "<div>\n",
       "<style scoped>\n",
       "    .dataframe tbody tr th:only-of-type {\n",
       "        vertical-align: middle;\n",
       "    }\n",
       "\n",
       "    .dataframe tbody tr th {\n",
       "        vertical-align: top;\n",
       "    }\n",
       "\n",
       "    .dataframe thead th {\n",
       "        text-align: right;\n",
       "    }\n",
       "</style>\n",
       "<table border=\"1\" class=\"dataframe\">\n",
       "  <thead>\n",
       "    <tr style=\"text-align: right;\">\n",
       "      <th></th>\n",
       "      <th>MinTemp</th>\n",
       "      <th>MaxTemp</th>\n",
       "      <th>Rainfall</th>\n",
       "      <th>RainToday</th>\n",
       "      <th>RainTomorrow</th>\n",
       "    </tr>\n",
       "  </thead>\n",
       "  <tbody>\n",
       "    <tr>\n",
       "      <th>30176</th>\n",
       "      <td>19.5</td>\n",
       "      <td>22.4</td>\n",
       "      <td>15.6</td>\n",
       "      <td>1.0</td>\n",
       "      <td>1</td>\n",
       "    </tr>\n",
       "    <tr>\n",
       "      <th>30177</th>\n",
       "      <td>19.5</td>\n",
       "      <td>25.6</td>\n",
       "      <td>6.0</td>\n",
       "      <td>1.0</td>\n",
       "      <td>1</td>\n",
       "    </tr>\n",
       "    <tr>\n",
       "      <th>30178</th>\n",
       "      <td>21.6</td>\n",
       "      <td>24.5</td>\n",
       "      <td>6.6</td>\n",
       "      <td>1.0</td>\n",
       "      <td>1</td>\n",
       "    </tr>\n",
       "    <tr>\n",
       "      <th>30179</th>\n",
       "      <td>20.2</td>\n",
       "      <td>22.8</td>\n",
       "      <td>18.8</td>\n",
       "      <td>1.0</td>\n",
       "      <td>1</td>\n",
       "    </tr>\n",
       "    <tr>\n",
       "      <th>30180</th>\n",
       "      <td>19.7</td>\n",
       "      <td>25.7</td>\n",
       "      <td>77.4</td>\n",
       "      <td>1.0</td>\n",
       "      <td>1</td>\n",
       "    </tr>\n",
       "  </tbody>\n",
       "</table>\n",
       "</div>"
      ],
      "text/plain": [
       "       MinTemp  MaxTemp  Rainfall  RainToday  RainTomorrow\n",
       "30176     19.5     22.4      15.6        1.0             1\n",
       "30177     19.5     25.6       6.0        1.0             1\n",
       "30178     21.6     24.5       6.6        1.0             1\n",
       "30179     20.2     22.8      18.8        1.0             1\n",
       "30180     19.7     25.7      77.4        1.0             1"
      ]
     },
     "execution_count": 12,
     "metadata": {},
     "output_type": "execute_result"
    }
   ],
   "source": [
    "# create a new dataframe with an extremely parsed down feature list\n",
    "sydney_weather_parsed = sydney_weather[['MinTemp', 'MaxTemp', 'Rainfall', 'RainToday', 'RainTomorrow']]\n",
    "sydney_weather_parsed.head()"
   ]
  },
  {
   "cell_type": "markdown",
   "metadata": {},
   "source": [
    "And now we can separate our data into the train/test split."
   ]
  },
  {
   "cell_type": "code",
   "execution_count": 13,
   "metadata": {},
   "outputs": [],
   "source": [
    "# create the test/train split with the data\n",
    "X = sydney_weather_parsed.iloc[:, 0:-1]\n",
    "y = sydney_weather_parsed.iloc[:, 4]\n",
    "X_train, X_test, y_train, y_test = train_test_split(X, y, random_state=7, test_size=0.2)"
   ]
  },
  {
   "cell_type": "markdown",
   "metadata": {},
   "source": [
    "And with KNN, we also have to scale our features."
   ]
  },
  {
   "cell_type": "code",
   "execution_count": 14,
   "metadata": {},
   "outputs": [],
   "source": [
    "# use StandardScaler() to scale the data before running KNN\n",
    "scaler = StandardScaler()\n",
    "X_train = scaler.fit_transform(X_train)\n",
    "X_test = scaler.transform(X_test)"
   ]
  },
  {
   "cell_type": "markdown",
   "metadata": {},
   "source": [
    "And finally, we can create our classifier. We will start with K = 5 as an arbitrary starting point. We will be changing these parameters in the following section."
   ]
  },
  {
   "cell_type": "code",
   "execution_count": 15,
   "metadata": {},
   "outputs": [
    {
     "data": {
      "text/plain": [
       "KNeighborsClassifier(algorithm='auto', leaf_size=30, metric='euclidean',\n",
       "                     metric_params=None, n_jobs=None, n_neighbors=5, p=2,\n",
       "                     weights='uniform')"
      ]
     },
     "execution_count": 15,
     "metadata": {},
     "output_type": "execute_result"
    }
   ],
   "source": [
    "# create our classifier and train it on the training data\n",
    "classifier_5 = KNeighborsClassifier(n_neighbors = 5, p = 2, metric = 'euclidean')\n",
    "classifier_5.fit(X_train, y_train)"
   ]
  },
  {
   "cell_type": "markdown",
   "metadata": {},
   "source": [
    "By running the classifier on the testing data, we can see that we get some predictions. We will see how accurate (or not accurate) these predictions are in the following sections."
   ]
  },
  {
   "cell_type": "code",
   "execution_count": 16,
   "metadata": {},
   "outputs": [
    {
     "data": {
      "text/plain": [
       "array([0, 1, 0, 1, 0, 0, 0, 0, 0, 0, 0, 0, 0, 0, 0, 0, 1, 0, 0, 0, 1, 0,\n",
       "       0, 1, 0, 0, 0, 0, 0, 0, 0, 0, 0, 0, 0, 0, 0, 1, 0, 0, 0, 0, 0, 0,\n",
       "       1, 0, 0, 1, 0, 1, 1, 0, 0, 0, 0, 0, 0, 1, 0, 0, 0, 0, 0, 0, 0, 0,\n",
       "       1, 0, 0, 0, 0, 0, 0, 1, 0, 0, 0, 0, 0, 0, 0, 0, 0, 0, 0, 0, 0, 0,\n",
       "       0, 0, 0, 0, 1, 0, 0, 0, 0, 0, 1, 0, 0, 0, 0, 0, 0, 1, 1, 0, 0, 0,\n",
       "       0, 0, 0, 0, 0, 1, 1, 1, 0, 0, 0, 0, 0, 1, 0, 0, 0, 0, 0, 0, 0, 0,\n",
       "       0, 0, 0, 1, 0, 0, 0, 0, 0, 0, 1, 0, 0, 0, 0, 0, 0, 0, 0, 0, 0, 0,\n",
       "       0, 1, 0, 0, 0, 0, 0, 1, 0, 0, 1, 1, 0, 1, 0, 0, 1, 0, 0, 1, 0, 0,\n",
       "       0, 0, 0, 0, 1, 0, 0, 0, 0, 0, 0, 0, 0, 0, 0, 0, 0, 0, 0, 0, 0, 1,\n",
       "       0, 0, 0, 0, 0, 0, 0, 0, 0, 0, 0, 0, 0, 0, 0, 0, 0, 0, 0, 0, 1, 1,\n",
       "       1, 0, 0, 0, 0, 0, 0, 0, 0, 0, 0, 0, 0, 0, 0, 0, 0, 0, 0, 0, 0, 0,\n",
       "       0, 0, 0, 0, 1, 1, 0, 1, 0, 0, 1, 0, 0, 1, 1, 0, 0, 0, 0, 0, 0, 0,\n",
       "       0, 0, 1, 0, 0, 0, 0, 0, 0, 1, 1, 0, 0, 0, 0, 0, 0, 0, 0, 0, 0, 0,\n",
       "       0, 0, 0, 0, 0, 1, 1, 0, 0, 0, 0, 0, 0, 0, 0, 1, 0, 0, 1, 0, 1, 0,\n",
       "       0, 0, 0, 0, 0, 0, 0, 1, 0, 0, 0, 0, 0, 0, 0, 0, 0, 0, 0, 1, 0, 1,\n",
       "       0, 0, 0, 1, 0, 0, 0, 0, 0, 1, 0, 0, 1, 0, 0, 0, 0, 0, 0, 0, 0, 0,\n",
       "       0, 0, 0, 0, 0, 0, 0, 0, 1, 0, 0, 1, 0, 0, 0, 0, 0, 0, 1, 0, 0, 0,\n",
       "       0, 1, 1, 0, 0, 0, 0, 0, 0, 0, 0, 0, 0, 0, 0, 0, 0, 0, 0, 0, 0, 0,\n",
       "       0, 0, 0, 1, 1, 1, 0, 0, 0, 0, 1, 0, 0, 0, 0, 1, 0, 0, 0, 0, 1, 0,\n",
       "       0, 0, 1, 0, 0, 0, 1, 0, 0, 1, 0, 0, 1, 0, 1, 0, 0, 0, 0, 0, 0, 0,\n",
       "       0, 1, 0, 0, 0, 0, 0, 0, 1, 0, 0, 0, 0, 0, 0, 0, 0, 0, 0, 0, 0, 0,\n",
       "       0, 1, 0, 0, 1, 0, 0, 0, 1, 1, 1, 0, 0, 0, 0, 0, 0, 0, 1, 0, 0, 0,\n",
       "       0, 0, 0, 1, 1, 0, 1, 0, 0, 0, 0, 0, 1, 1, 0, 0, 0, 0, 0, 0, 1, 0,\n",
       "       0, 1, 0, 0, 0, 0, 0, 1, 0, 0, 0, 0, 0, 0, 0, 1, 0, 0, 0, 0, 1, 1,\n",
       "       0, 0, 1, 0, 0, 0, 1, 0, 0, 0, 0, 1, 0, 0, 0, 0, 1, 0, 0, 0, 0, 0,\n",
       "       0, 0, 0, 0, 1, 0, 0, 0, 1, 0, 0, 0, 0, 0, 1, 0, 0, 0, 0, 0, 0, 0,\n",
       "       0, 0, 0, 1, 0, 0, 0, 1, 0, 0, 0, 0, 1, 0, 0, 0, 1, 0, 0, 0, 0, 1,\n",
       "       1, 0, 0, 0, 1, 0, 0, 0, 0, 0, 1, 0, 0, 0, 0, 0, 0, 1, 0, 1, 0, 0,\n",
       "       1, 0, 0, 0, 0, 0, 0, 0, 0, 0, 0, 1, 0, 0, 0, 0, 0, 0, 0, 1, 0, 1,\n",
       "       0, 1, 1, 0, 0, 0, 0, 1, 0, 0, 0, 0, 0, 1, 0, 0, 0, 0, 0, 0, 0, 0,\n",
       "       0, 0, 0, 0, 1, 0, 0, 1])"
      ]
     },
     "execution_count": 16,
     "metadata": {},
     "output_type": "execute_result"
    }
   ],
   "source": [
    "# create a prediction matrix with the trained classifier\n",
    "y_pred = classifier_5.predict(X_test)\n",
    "y_pred"
   ]
  },
  {
   "cell_type": "markdown",
   "metadata": {},
   "source": [
    "## Changing Parameters"
   ]
  },
  {
   "cell_type": "markdown",
   "metadata": {},
   "source": [
    "For the purposes of this project, we will choose to change the K values of the classifiers. For the following models, we will run them with K values of 3, 7, and 9."
   ]
  },
  {
   "cell_type": "code",
   "execution_count": 19,
   "metadata": {},
   "outputs": [],
   "source": [
    "# create a classifier and train it on the dataset for each K value of 3, 7, and 9\n",
    "# then for each of those, create a prediction matrix\n",
    "classifier_3 = KNeighborsClassifier(n_neighbors = 3, p = 2, metric = 'euclidean')\n",
    "classifier_3.fit(X_train, y_train)\n",
    "y_pred_3 = classifier_3.predict(X_test)\n",
    "\n",
    "classifier_7 = KNeighborsClassifier(n_neighbors = 7, p = 2, metric = 'euclidean')\n",
    "classifier_7.fit(X_train, y_train)\n",
    "y_pred_7 = classifier_7.predict(X_test)\n",
    "\n",
    "classifier_9 = KNeighborsClassifier(n_neighbors = 9, p = 2, metric = 'euclidean')\n",
    "classifier_9.fit(X_train, y_train)\n",
    "y_pred_9 = classifier_9.predict(X_test)"
   ]
  },
  {
   "cell_type": "markdown",
   "metadata": {},
   "source": [
    "## Accuracy of Model"
   ]
  },
  {
   "cell_type": "markdown",
   "metadata": {},
   "source": [
    "To report the accuracy of each of these models, we will report the confusion matrix and the F1 score. Because of a class imbalance problem, reporting true accuracy likely won't lead to meaningful analysis of the accuracies."
   ]
  },
  {
   "cell_type": "code",
   "execution_count": 20,
   "metadata": {},
   "outputs": [
    {
     "name": "stdout",
     "output_type": "stream",
     "text": [
      "[[440  53]\n",
      " [111  64]]\n",
      "0.43835616438356173\n"
     ]
    }
   ],
   "source": [
    "# print the confusion matrix and F1 score of the model where K = 5\n",
    "print(confusion_matrix(y_test, y_pred))\n",
    "print(f1_score(y_test, y_pred))"
   ]
  },
  {
   "cell_type": "code",
   "execution_count": 21,
   "metadata": {},
   "outputs": [
    {
     "name": "stdout",
     "output_type": "stream",
     "text": [
      "[[419  74]\n",
      " [107  68]]\n",
      "0.4290220820189274\n"
     ]
    }
   ],
   "source": [
    "# print the confusion matrix and F1 score of the model where K = 3\n",
    "print(confusion_matrix(y_test, y_pred_3))\n",
    "print(f1_score(y_test, y_pred_3))"
   ]
  },
  {
   "cell_type": "code",
   "execution_count": 22,
   "metadata": {},
   "outputs": [
    {
     "name": "stdout",
     "output_type": "stream",
     "text": [
      "[[454  39]\n",
      " [112  63]]\n",
      "0.45487364620938625\n"
     ]
    }
   ],
   "source": [
    "# print the confusion matrix and F1 score of the model where K = 7\n",
    "print(confusion_matrix(y_test, y_pred_7))\n",
    "print(f1_score(y_test, y_pred_7))"
   ]
  },
  {
   "cell_type": "code",
   "execution_count": 23,
   "metadata": {},
   "outputs": [
    {
     "name": "stdout",
     "output_type": "stream",
     "text": [
      "[[452  41]\n",
      " [110  65]]\n",
      "0.4626334519572954\n"
     ]
    }
   ],
   "source": [
    "# print the confusion matrix and F1 score of the model where K = 9\n",
    "print(confusion_matrix(y_test, y_pred_9))\n",
    "print(f1_score(y_test, y_pred_9))"
   ]
  },
  {
   "cell_type": "markdown",
   "metadata": {},
   "source": [
    "We can see that these confusion matrices and F1 scores are not particularly impressive. Out of these models, the best performing was the one with K = 9, but even then there were high numbers of false positive (in this case, the left column and lower row is a negative result while the right column and upper row are positive results), meaning that the model had a tough time accurately predicting days where rain did not fall. This is likely due to the information lost in the somewhat arbitrary feature selection phase. We can quickly try to replicate these models with more features to see if this improves the performance of the models."
   ]
  },
  {
   "cell_type": "code",
   "execution_count": 24,
   "metadata": {},
   "outputs": [
    {
     "data": {
      "text/html": [
       "<div>\n",
       "<style scoped>\n",
       "    .dataframe tbody tr th:only-of-type {\n",
       "        vertical-align: middle;\n",
       "    }\n",
       "\n",
       "    .dataframe tbody tr th {\n",
       "        vertical-align: top;\n",
       "    }\n",
       "\n",
       "    .dataframe thead th {\n",
       "        text-align: right;\n",
       "    }\n",
       "</style>\n",
       "<table border=\"1\" class=\"dataframe\">\n",
       "  <thead>\n",
       "    <tr style=\"text-align: right;\">\n",
       "      <th></th>\n",
       "      <th>MinTemp</th>\n",
       "      <th>MaxTemp</th>\n",
       "      <th>Rainfall</th>\n",
       "      <th>Sunshine</th>\n",
       "      <th>Humidity3pm</th>\n",
       "      <th>Pressure3pm</th>\n",
       "      <th>Temp3pm</th>\n",
       "      <th>RainToday</th>\n",
       "      <th>RainTomorrow</th>\n",
       "    </tr>\n",
       "  </thead>\n",
       "  <tbody>\n",
       "    <tr>\n",
       "      <th>30176</th>\n",
       "      <td>19.5</td>\n",
       "      <td>22.4</td>\n",
       "      <td>15.6</td>\n",
       "      <td>0.0</td>\n",
       "      <td>84.0</td>\n",
       "      <td>1017.4</td>\n",
       "      <td>20.9</td>\n",
       "      <td>1.0</td>\n",
       "      <td>1</td>\n",
       "    </tr>\n",
       "    <tr>\n",
       "      <th>30177</th>\n",
       "      <td>19.5</td>\n",
       "      <td>25.6</td>\n",
       "      <td>6.0</td>\n",
       "      <td>2.7</td>\n",
       "      <td>73.0</td>\n",
       "      <td>1016.4</td>\n",
       "      <td>24.8</td>\n",
       "      <td>1.0</td>\n",
       "      <td>1</td>\n",
       "    </tr>\n",
       "    <tr>\n",
       "      <th>30178</th>\n",
       "      <td>21.6</td>\n",
       "      <td>24.5</td>\n",
       "      <td>6.6</td>\n",
       "      <td>0.1</td>\n",
       "      <td>86.0</td>\n",
       "      <td>1015.6</td>\n",
       "      <td>23.0</td>\n",
       "      <td>1.0</td>\n",
       "      <td>1</td>\n",
       "    </tr>\n",
       "    <tr>\n",
       "      <th>30179</th>\n",
       "      <td>20.2</td>\n",
       "      <td>22.8</td>\n",
       "      <td>18.8</td>\n",
       "      <td>0.0</td>\n",
       "      <td>90.0</td>\n",
       "      <td>1011.8</td>\n",
       "      <td>20.9</td>\n",
       "      <td>1.0</td>\n",
       "      <td>1</td>\n",
       "    </tr>\n",
       "    <tr>\n",
       "      <th>30180</th>\n",
       "      <td>19.7</td>\n",
       "      <td>25.7</td>\n",
       "      <td>77.4</td>\n",
       "      <td>0.0</td>\n",
       "      <td>74.0</td>\n",
       "      <td>1004.8</td>\n",
       "      <td>25.5</td>\n",
       "      <td>1.0</td>\n",
       "      <td>1</td>\n",
       "    </tr>\n",
       "  </tbody>\n",
       "</table>\n",
       "</div>"
      ],
      "text/plain": [
       "       MinTemp  MaxTemp  Rainfall  Sunshine  Humidity3pm  Pressure3pm  \\\n",
       "30176     19.5     22.4      15.6       0.0         84.0       1017.4   \n",
       "30177     19.5     25.6       6.0       2.7         73.0       1016.4   \n",
       "30178     21.6     24.5       6.6       0.1         86.0       1015.6   \n",
       "30179     20.2     22.8      18.8       0.0         90.0       1011.8   \n",
       "30180     19.7     25.7      77.4       0.0         74.0       1004.8   \n",
       "\n",
       "       Temp3pm  RainToday  RainTomorrow  \n",
       "30176     20.9        1.0             1  \n",
       "30177     24.8        1.0             1  \n",
       "30178     23.0        1.0             1  \n",
       "30179     20.9        1.0             1  \n",
       "30180     25.5        1.0             1  "
      ]
     },
     "execution_count": 24,
     "metadata": {},
     "output_type": "execute_result"
    }
   ],
   "source": [
    "# create a new dataframe with more features than the original\n",
    "sydney_weather_parsed_v2 = sydney_weather[['MinTemp', 'MaxTemp', 'Rainfall', 'Sunshine',\n",
    "                                        'Humidity3pm', 'Pressure3pm', 'Temp3pm', 'RainToday', 'RainTomorrow']]\n",
    "sydney_weather_parsed_v2.head()"
   ]
  },
  {
   "cell_type": "code",
   "execution_count": 25,
   "metadata": {},
   "outputs": [],
   "source": [
    "# create a new test/train split with the new data\n",
    "X = sydney_weather_parsed_v2.iloc[:, 0:-1]\n",
    "y = sydney_weather_parsed_v2.iloc[:, 8]\n",
    "X_train, X_test, y_train, y_test = train_test_split(X, y, random_state=7, test_size=0.2)"
   ]
  },
  {
   "cell_type": "code",
   "execution_count": 26,
   "metadata": {},
   "outputs": [],
   "source": [
    "# scale the new dataset with StandardScaler()\n",
    "scaler = StandardScaler()\n",
    "X_train = scaler.fit_transform(X_train)\n",
    "X_test = scaler.transform(X_test)"
   ]
  },
  {
   "cell_type": "code",
   "execution_count": 27,
   "metadata": {},
   "outputs": [],
   "source": [
    "# create a classifier and train it on the new dataset for each K value of 3, 7, and 9\n",
    "# then for each of those, create a prediction matrix\n",
    "classifier_3_v2 = KNeighborsClassifier(n_neighbors = 3, p = 2, metric = 'euclidean')\n",
    "classifier_3_v2.fit(X_train, y_train)\n",
    "y_pred_3_v2 = classifier_3_v2.predict(X_test)\n",
    "\n",
    "classifier_5_v2 = KNeighborsClassifier(n_neighbors = 5, p = 2, metric = 'euclidean')\n",
    "classifier_5_v2.fit(X_train, y_train)\n",
    "y_pred_5_v2 = classifier_5_v2.predict(X_test)\n",
    "\n",
    "classifier_7_v2 = KNeighborsClassifier(n_neighbors = 7, p = 2, metric = 'euclidean')\n",
    "classifier_7_v2.fit(X_train, y_train)\n",
    "y_pred_7_v2 = classifier_7_v2.predict(X_test)\n",
    "\n",
    "classifier_9_v2 = KNeighborsClassifier(n_neighbors = 9, p = 2, metric = 'euclidean')\n",
    "classifier_9_v2.fit(X_train, y_train)\n",
    "y_pred_9_v2 = classifier_9_v2.predict(X_test)"
   ]
  },
  {
   "cell_type": "code",
   "execution_count": 28,
   "metadata": {},
   "outputs": [
    {
     "name": "stdout",
     "output_type": "stream",
     "text": [
      "[[439  54]\n",
      " [ 82  93]]\n",
      "0.577639751552795\n",
      "[[450  43]\n",
      " [ 83  92]]\n",
      "0.5935483870967742\n",
      "[[457  36]\n",
      " [ 82  93]]\n",
      "0.6118421052631579\n",
      "[[459  34]\n",
      " [ 85  90]]\n",
      "0.6020066889632107\n"
     ]
    }
   ],
   "source": [
    "# print the confusion matrices and F1 scores for each of the new test sets that \n",
    "# we created with the new data\n",
    "print(confusion_matrix(y_test, y_pred_3_v2))\n",
    "print(f1_score(y_test, y_pred_3_v2))\n",
    "\n",
    "print(confusion_matrix(y_test, y_pred_5_v2))\n",
    "print(f1_score(y_test, y_pred_5_v2))\n",
    "\n",
    "print(confusion_matrix(y_test, y_pred_7_v2))\n",
    "print(f1_score(y_test, y_pred_7_v2))\n",
    "\n",
    "print(confusion_matrix(y_test, y_pred_9_v2))\n",
    "print(f1_score(y_test, y_pred_9_v2))"
   ]
  },
  {
   "cell_type": "markdown",
   "metadata": {},
   "source": [
    "We can actually see a meaningful improvement with a larger number of features. It seems like the curse of dimensionality doesn't take strong effect until much larger numbers of features are included. We can see that the F1 score peaks around K = 7, and that False Positive results are much lower across the board."
   ]
  },
  {
   "cell_type": "markdown",
   "metadata": {},
   "source": [
    "## Visualization"
   ]
  },
  {
   "cell_type": "markdown",
   "metadata": {},
   "source": [
    "Creating a visualization that represents the findings of KNN is a little bit difficult, especially with larger feature sets, because it is working in dimensions past what we are able to visualize as humans. For the purposes of this visualization, I will simplify the model to only include 2 features, so that we will be able to visualize what the KNN model is doing at a lower level."
   ]
  },
  {
   "cell_type": "code",
   "execution_count": 29,
   "metadata": {},
   "outputs": [
    {
     "data": {
      "text/plain": [
       "Text(0.5, 1.0, 'Rainfall vs Humidity at 3pm')"
      ]
     },
     "execution_count": 29,
     "metadata": {},
     "output_type": "execute_result"
    },
    {
     "data": {
      "image/png": "[encoded data removed]",
      "text/plain": [
       "<Figure size 432x288 with 1 Axes>"
      ]
     },
     "metadata": {
      "needs_background": "light"
     },
     "output_type": "display_data"
    }
   ],
   "source": [
    "# create a scatterplot to visualize what KNN is doing in 2 dimensions\n",
    "sns.scatterplot(data = sydney_weather, x = 'Rainfall', y = 'Humidity3pm', hue = 'RainTomorrow')\n",
    "plt.title('Rainfall vs Humidity at 3pm')"
   ]
  },
  {
   "cell_type": "markdown",
   "metadata": {},
   "source": [
    "In this example, when trying to predict if a there was going to be rain following a particular day, we would find the Rainfall levels and Humidity at 3pm of that day, and find the K nearest points. Out of those K nearest neighbors, they would \"vote\" with their own outcomes. If there were more blue dots (no rain) near the day we're trying to predict, then we would predict that there would be no rain the following day, and vice versa with orange dots (rain).\n",
    "\n",
    "We can also visualize our findings by creating visualizations for the confusion matrices of our outcomes."
   ]
  },
  {
   "cell_type": "code",
   "execution_count": 30,
   "metadata": {},
   "outputs": [
    {
     "data": {
      "image/png": "[encoded data removed]",
      "text/plain": [
       "<Figure size 432x288 with 1 Axes>"
      ]
     },
     "metadata": {},
     "output_type": "display_data"
    }
   ],
   "source": [
    "# create a confusion matrix with scaling colors for the model\n",
    "# where K = 7 with the updated feature list\n",
    "sns.set()\n",
    "\n",
    "cm = confusion_matrix(y_test, y_pred_7_v2)\n",
    "sns.set(font_scale=1.3)\n",
    "sns.heatmap(cm.T, square=True, annot=True, fmt='d', cbar=False,cmap=\"inferno\", \n",
    "            xticklabels=['No Rain','Rain'],yticklabels=['No Rain','Rain']\n",
    "            )\n",
    "\n",
    "# add the axes labels and titles\n",
    "plt.tight_layout()\n",
    "plt.xlabel('true label')\n",
    "plt.ylabel('predicted label')\n",
    "plt.title('Confusion Matrix for K = 7 with Updated Feature List')\n",
    "plt.savefig('nbcm5')\n",
    "plt.show();"
   ]
  },
  {
   "cell_type": "code",
   "execution_count": 31,
   "metadata": {},
   "outputs": [
    {
     "data": {
      "image/png": "[encoded data removed]",
      "text/plain": [
       "<Figure size 432x288 with 1 Axes>"
      ]
     },
     "metadata": {},
     "output_type": "display_data"
    }
   ],
   "source": [
    "# create a confusion matrix with scaling colors for the model\n",
    "# where K = 7 with the original feature list\n",
    "sns.set()\n",
    "\n",
    "cm = confusion_matrix(y_test, y_pred)\n",
    "sns.set(font_scale=1.3)\n",
    "sns.heatmap(cm.T, square=True, annot=True, fmt='d', cbar=False,cmap=\"inferno\", \n",
    "            xticklabels=['No Rain','Rain'],yticklabels=['No Rain','Rain']\n",
    "            )\n",
    "# add the axes labels and titles\n",
    "plt.tight_layout()\n",
    "plt.xlabel('true label')\n",
    "plt.ylabel('predicted label')\n",
    "plt.title('Confusion Matrix for K = 7 with Original Feature List')\n",
    "plt.savefig('nbcm5')\n",
    "plt.show();"
   ]
  },
  {
   "cell_type": "markdown",
   "metadata": {},
   "source": [
    "From these, we can see that the K = 7 model with the updated feature list had more true negatives and true positives, and fewer false negatives and false positives. This indicates that the updated feature list creates better performing models.\n",
    "\n",
    "We can also plot the F1 scores of the different models."
   ]
  },
  {
   "cell_type": "code",
   "execution_count": 32,
   "metadata": {},
   "outputs": [
    {
     "data": {
      "text/html": [
       "<div>\n",
       "<style scoped>\n",
       "    .dataframe tbody tr th:only-of-type {\n",
       "        vertical-align: middle;\n",
       "    }\n",
       "\n",
       "    .dataframe tbody tr th {\n",
       "        vertical-align: top;\n",
       "    }\n",
       "\n",
       "    .dataframe thead th {\n",
       "        text-align: right;\n",
       "    }\n",
       "</style>\n",
       "<table border=\"1\" class=\"dataframe\">\n",
       "  <thead>\n",
       "    <tr style=\"text-align: right;\">\n",
       "      <th></th>\n",
       "      <th>Model</th>\n",
       "      <th>F1 Score</th>\n",
       "    </tr>\n",
       "  </thead>\n",
       "  <tbody>\n",
       "    <tr>\n",
       "      <th>0</th>\n",
       "      <td>3 Neighbors</td>\n",
       "      <td>0.429022</td>\n",
       "    </tr>\n",
       "    <tr>\n",
       "      <th>1</th>\n",
       "      <td>5 Neighbors</td>\n",
       "      <td>0.438356</td>\n",
       "    </tr>\n",
       "    <tr>\n",
       "      <th>2</th>\n",
       "      <td>7 Neighbors</td>\n",
       "      <td>0.454874</td>\n",
       "    </tr>\n",
       "    <tr>\n",
       "      <th>3</th>\n",
       "      <td>9 Neighbors</td>\n",
       "      <td>0.462633</td>\n",
       "    </tr>\n",
       "    <tr>\n",
       "      <th>4</th>\n",
       "      <td>3 Neighbors V2</td>\n",
       "      <td>0.577640</td>\n",
       "    </tr>\n",
       "    <tr>\n",
       "      <th>5</th>\n",
       "      <td>5 Neighbors V2</td>\n",
       "      <td>0.593548</td>\n",
       "    </tr>\n",
       "    <tr>\n",
       "      <th>6</th>\n",
       "      <td>7 Neighbors V2</td>\n",
       "      <td>0.611842</td>\n",
       "    </tr>\n",
       "    <tr>\n",
       "      <th>7</th>\n",
       "      <td>9 Neighbors V2</td>\n",
       "      <td>0.602007</td>\n",
       "    </tr>\n",
       "  </tbody>\n",
       "</table>\n",
       "</div>"
      ],
      "text/plain": [
       "            Model  F1 Score\n",
       "0     3 Neighbors  0.429022\n",
       "1     5 Neighbors  0.438356\n",
       "2     7 Neighbors  0.454874\n",
       "3     9 Neighbors  0.462633\n",
       "4  3 Neighbors V2  0.577640\n",
       "5  5 Neighbors V2  0.593548\n",
       "6  7 Neighbors V2  0.611842\n",
       "7  9 Neighbors V2  0.602007"
      ]
     },
     "execution_count": 32,
     "metadata": {},
     "output_type": "execute_result"
    }
   ],
   "source": [
    "# create a dataframe with the model name and F1 scores for that model as the two columns\n",
    "f1_compare = [['3 Neighbors', f1_score(y_test, y_pred_3)], ['5 Neighbors', f1_score(y_test, y_pred)], \n",
    "              ['7 Neighbors', f1_score(y_test, y_pred_7)], ['9 Neighbors', f1_score(y_test, y_pred_9)], \n",
    "              ['3 Neighbors V2', f1_score(y_test, y_pred_3_v2)], ['5 Neighbors V2', f1_score(y_test, y_pred_5_v2)], \n",
    "              ['7 Neighbors V2', f1_score(y_test, y_pred_7_v2)], ['9 Neighbors V2', f1_score(y_test, y_pred_9_v2)]]\n",
    "f1_df = pd.DataFrame(f1_compare, columns = ['Model', 'F1 Score'])\n",
    "f1_df"
   ]
  },
  {
   "cell_type": "code",
   "execution_count": 33,
   "metadata": {},
   "outputs": [
    {
     "data": {
      "text/plain": [
       "Text(0.5, 1.0, 'Model Parameter Version vs F1 Score')"
      ]
     },
     "execution_count": 33,
     "metadata": {},
     "output_type": "execute_result"
    },
    {
     "data": {
      "image/png": "[encoded data removed]",
      "text/plain": [
       "<Figure size 1152x360 with 1 Axes>"
      ]
     },
     "metadata": {},
     "output_type": "display_data"
    }
   ],
   "source": [
    "# plot the F1 scores for each model on a bar chart\n",
    "plt.figure(figsize=(16, 5))\n",
    "sns.barplot(data=f1_df, x = 'Model', y = 'F1 Score')\n",
    "plt.title('Model Parameter Version vs F1 Score')"
   ]
  },
  {
   "cell_type": "markdown",
   "metadata": {},
   "source": [
    "And from here, we can see that the updated feature list performed better than the original feature list, and that there tends to be a slight performance peak around 7 neighbors for this data."
   ]
  },
  {
   "cell_type": "markdown",
   "metadata": {},
   "source": [
    "## Challenges"
   ]
  },
  {
   "cell_type": "markdown",
   "metadata": {},
   "source": [
    "The first challenge that I ran into was finding a suitable dataset for this type of problem. Many datasets didn't have the data necessary to answer a suitable research question for a variety of reasons, whether it be because the dataset wasn't formatted correctly or because the dataset simply didn't have enough data. In addition, this highlights an overall challenge that I think is felt by many in the field. We will not always have the luxury of simply searching for another dataset to answer a different research question if the data doesn't fit our liking. Sometimes we have to just work with what information we have.\n",
    "\n",
    "Another challenge I ran into was the challenge of feature selection, which is another common problem when creating models, especially KNN. I don't really have any domain expertise, nor do I have access to anyone who does, so the feature selection portion of the creation of these models were more or less trial-and-error. The dataset, the model, and the research question all contributed to this problem. The dataset because of the subject matter, the model because of the requirement of feature selection, and the research question also because of the subject matter. In industry, I would try my best to overcome this challenge by finding subject-matter experts to help guide in the feature selection process, and if that wasn't possible, I would spend more time researching Australian weather patterns or learning more about meteorology in general."
   ]
  },
  {
   "cell_type": "markdown",
   "metadata": {},
   "source": [
    "## Benefits and Harms\n",
    "    \n",
    "One benefit to this model is the obvious benefit of possibly being able to predict the weather for the following day with a high degree of accuracy. This can be very beneficial in that you can plan your day ahead of time. Another benefit is that it could influence and improve future data collection and models. For example, if it was found that adding a feature like Evaporation to the model greatly improved it, it could indicate to future meteorologists that they should be especially focused when collecting Evaporation data.\n",
    "\n",
    "One harm is that models like this could be used in contexts other than which they were intended for. For example, this model is not likely to be very accurate when predicting the weather in Seattle. This might not seem like a super impactful harm, but it can be, depending on the use case, which also ties into the second harm. The second harm of this model is that people can sometimes build a reliance on predictive models like this. Even something as seemingly innocuous as the weather and rainfall can have large negative impacts on people's lives, especially if they heavily depend on models like this. For example, say someone had a big job interview the following day, and this model predicted \"no rain,\" so they hung their clothes outside to dry. If the model ends up being wrong, this can have negative consequences on that person. This might seem like a contrived or even silly example, but depending on the scale of use of this type of model, being wrong can have negative effects (however inconsequential) for large numbers of people."
   ]
  },
  {
   "cell_type": "markdown",
   "metadata": {},
   "source": [
    "## Future Research Question"
   ]
  },
  {
   "cell_type": "markdown",
   "metadata": {},
   "source": [
    "One future research question might be to investigate which features contribute the most predictive power in figuring out if it will rain on the following day. KNN isn't really designed to answer this type of question, so it would likely have to be done with a different algorithm. This question is important because it can retroactively improve models like the one created here (by choosing the optimal features rather than trial-and-error) and because, as noted above, it can help guide future research in the meteorological community."
   ]
  },
  {
   "cell_type": "code",
   "execution_count": null,
   "metadata": {},
   "outputs": [],
   "source": []
  }
 ],
 "metadata": {
  "kernelspec": {
   "display_name": "Python 3",
   "language": "python",
   "name": "python3"
  },
  "language_info": {
   "codemirror_mode": {
    "name": "ipython",
    "version": 3
   },
   "file_extension": ".py",
   "mimetype": "text/x-python",
   "name": "python",
   "nbconvert_exporter": "python",
   "pygments_lexer": "ipython3",
   "version": "3.7.4"
  }
 },
 "nbformat": 4,
 "nbformat_minor": 2
}
